{
 "cells": [
  {
   "cell_type": "markdown",
   "metadata": {
    "ExecuteTime": {
     "end_time": "2019-04-16T11:19:56.070887Z",
     "start_time": "2019-04-16T11:19:56.067333Z"
    }
   },
   "source": [
    "# Question\n",
    "\n",
    "1. We have trained a logistic regression and it produced weight of 0.5, 0.7, 1.3 with bias of -2.3\n",
    "    - Calculate the prediction score manually (using numpy) when the input is 2, 3, 5"
   ]
  },
  {
   "cell_type": "markdown",
   "metadata": {
    "ExecuteTime": {
     "end_time": "2019-04-16T11:20:01.128530Z",
     "start_time": "2019-04-16T11:20:01.125532Z"
    }
   },
   "source": [
    "# Answer"
   ]
  },
  {
   "cell_type": "code",
   "execution_count": 1,
   "metadata": {
    "ExecuteTime": {
     "end_time": "2019-04-24T03:54:52.703671Z",
     "start_time": "2019-04-24T03:54:52.585229Z"
    }
   },
   "outputs": [
    {
     "data": {
      "text/plain": [
       "0.9993249172693672"
      ]
     },
     "execution_count": 1,
     "metadata": {},
     "output_type": "execute_result"
    }
   ],
   "source": [
    "import numpy as np\n",
    "\n",
    "weight = np.array([0.5, 0.7, 1.3, -2.3])\n",
    "x = np.array([2, 3, 5, 1])\n",
    "\n",
    "weight.dot(x)\n",
    "\n",
    "def sigmoid(x):\n",
    "    return 1 / (1+np.exp(-x))\n",
    "\n",
    "sigmoid(weight.dot(x))"
   ]
  },
  {
   "cell_type": "code",
   "execution_count": null,
   "metadata": {},
   "outputs": [],
   "source": []
  }
 ],
 "metadata": {
  "hide_input": false,
  "kernelspec": {
   "display_name": "Python 3",
   "language": "python",
   "name": "python3"
  },
  "language_info": {
   "codemirror_mode": {
    "name": "ipython",
    "version": 3
   },
   "file_extension": ".py",
   "mimetype": "text/x-python",
   "name": "python",
   "nbconvert_exporter": "python",
   "pygments_lexer": "ipython3",
   "version": "3.7.1"
  }
 },
 "nbformat": 4,
 "nbformat_minor": 2
}
