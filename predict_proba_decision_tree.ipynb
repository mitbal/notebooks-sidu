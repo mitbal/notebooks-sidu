{
 "cells": [
  {
   "cell_type": "code",
   "execution_count": 1,
   "metadata": {},
   "outputs": [],
   "source": [
    "import numpy as np\n",
    "import pandas as pd\n",
    "\n",
    "import matplotlib.pyplot as plt\n",
    "import seaborn as sns\n",
    "\n",
    "%matplotlib inline"
   ]
  },
  {
   "cell_type": "code",
   "execution_count": 2,
   "metadata": {},
   "outputs": [
    {
     "data": {
      "text/html": [
       "<div>\n",
       "<style scoped>\n",
       "    .dataframe tbody tr th:only-of-type {\n",
       "        vertical-align: middle;\n",
       "    }\n",
       "\n",
       "    .dataframe tbody tr th {\n",
       "        vertical-align: top;\n",
       "    }\n",
       "\n",
       "    .dataframe thead th {\n",
       "        text-align: right;\n",
       "    }\n",
       "</style>\n",
       "<table border=\"1\" class=\"dataframe\">\n",
       "  <thead>\n",
       "    <tr style=\"text-align: right;\">\n",
       "      <th></th>\n",
       "      <th>x</th>\n",
       "      <th>y</th>\n",
       "      <th>label</th>\n",
       "    </tr>\n",
       "  </thead>\n",
       "  <tbody>\n",
       "    <tr>\n",
       "      <th>0</th>\n",
       "      <td>1</td>\n",
       "      <td>1</td>\n",
       "      <td>1</td>\n",
       "    </tr>\n",
       "    <tr>\n",
       "      <th>1</th>\n",
       "      <td>1</td>\n",
       "      <td>2</td>\n",
       "      <td>1</td>\n",
       "    </tr>\n",
       "    <tr>\n",
       "      <th>2</th>\n",
       "      <td>2</td>\n",
       "      <td>1</td>\n",
       "      <td>1</td>\n",
       "    </tr>\n",
       "    <tr>\n",
       "      <th>3</th>\n",
       "      <td>2</td>\n",
       "      <td>2</td>\n",
       "      <td>1</td>\n",
       "    </tr>\n",
       "    <tr>\n",
       "      <th>4</th>\n",
       "      <td>3</td>\n",
       "      <td>3</td>\n",
       "      <td>0</td>\n",
       "    </tr>\n",
       "  </tbody>\n",
       "</table>\n",
       "</div>"
      ],
      "text/plain": [
       "   x  y  label\n",
       "0  1  1      1\n",
       "1  1  2      1\n",
       "2  2  1      1\n",
       "3  2  2      1\n",
       "4  3  3      0"
      ]
     },
     "execution_count": 2,
     "metadata": {},
     "output_type": "execute_result"
    }
   ],
   "source": [
    "data = np.array(\n",
    "    [[1, 1, 1],\n",
    "    [1, 2, 1],\n",
    "    [2, 1, 1],\n",
    "    [2, 2, 1],\n",
    "    [3, 3, 0],\n",
    "    [-1, 1, 1],\n",
    "    [-2, 1, 1],\n",
    "    [-3, 1, 1],\n",
    "    [-3, 2, 0],\n",
    "    [1, -1, 1],\n",
    "    [1, -2, 1],\n",
    "    [2, -1, 0],\n",
    "    [-1, -1, 1],\n",
    "    [-2, -2, 0]]\n",
    ")\n",
    "\n",
    "df = pd.DataFrame(data)\n",
    "df = df.rename(columns={0: 'x', 1: 'y', 2: 'label'})\n",
    "df.head()"
   ]
  },
  {
   "cell_type": "code",
   "execution_count": 3,
   "metadata": {},
   "outputs": [],
   "source": [
    "def plot_dataset(df, ax=None):\n",
    "    \n",
    "    ax.scatter(x='x', y='y', data=df[df['label'] == 0], color='red')\n",
    "    ax.scatter(x='x', y='y', data=df[df['label'] == 1], color='green')\n",
    "    \n",
    "def decision_boundary(model, df, ax=None):\n",
    "    \n",
    "    max_x = np.max(df['x']) + 1\n",
    "    max_y = np.max(df['y']) + 1\n",
    "    \n",
    "    min_x = np.min(df['x']) - 1\n",
    "    min_y = np.min(df['y']) - 1\n",
    "    \n",
    "    xs = np.linspace(min_x, max_x, 200)\n",
    "    ys = np.linspace(min_y, max_y, 200)\n",
    "    zs = np.zeros((200, 200))\n",
    "\n",
    "    for i,x in enumerate(xs):\n",
    "        for j,y in enumerate(ys):\n",
    "            zs[j, i] = model.predict(np.array([[x, y]]))[0]\n",
    "\n",
    "    ax.contour(xs, ys, zs, levels=(-1, 0, 1), linewidths=2, colors='black', alpha=0.5)\n",
    "    ax.contourf(xs, ys, zs, levels=(-1, 0, 1), colors=('#ff0000', '#00ff00'), alpha=0.2)\n",
    "\n",
    "    ax.scatter(x='x', y='y', data=df[df['label'] == 0], color='red')\n",
    "    ax.scatter(x='x', y='y', data=df[df['label'] == 1], color='green')\n",
    "    \n",
    "    ax.set_xlim((min_x, max_x))\n",
    "    ax.set_ylim((min_y, max_y))"
   ]
  },
  {
   "cell_type": "code",
   "execution_count": 4,
   "metadata": {},
   "outputs": [
    {
     "data": {
      "image/png": "[encoded data removed]",
      "text/plain": [
       "<Figure size 432x288 with 1 Axes>"
      ]
     },
     "metadata": {
      "needs_background": "light"
     },
     "output_type": "display_data"
    }
   ],
   "source": [
    "fig, ax = plt.subplots()\n",
    "\n",
    "plot_dataset(df, ax)"
   ]
  },
  {
   "cell_type": "code",
   "execution_count": 5,
   "metadata": {},
   "outputs": [],
   "source": [
    "from sklearn.tree import DecisionTreeClassifier"
   ]
  },
  {
   "cell_type": "code",
   "execution_count": 6,
   "metadata": {},
   "outputs": [
    {
     "data": {
      "text/plain": [
       "DecisionTreeClassifier(class_weight=None, criterion='gini', max_depth=2,\n",
       "                       max_features=None, max_leaf_nodes=None,\n",
       "                       min_impurity_decrease=0.0, min_impurity_split=None,\n",
       "                       min_samples_leaf=1, min_samples_split=2,\n",
       "                       min_weight_fraction_leaf=0.0, presort=False,\n",
       "                       random_state=42, splitter='best')"
      ]
     },
     "execution_count": 6,
     "metadata": {},
     "output_type": "execute_result"
    }
   ],
   "source": [
    "tree = DecisionTreeClassifier(criterion='gini', max_depth=2, random_state=42)\n",
    "\n",
    "tree.fit(X=df[['x', 'y']].values, y=df[['label']].values)"
   ]
  },
  {
   "cell_type": "code",
   "execution_count": 7,
   "metadata": {},
   "outputs": [
    {
     "name": "stderr",
     "output_type": "stream",
     "text": [
      "C:\\Users\\mitbal\\Anaconda3\\lib\\site-packages\\ipykernel_launcher.py:22: UserWarning: No contour levels were found within the data range.\n"
     ]
    },
    {
     "data": {
      "image/png": "[encoded data removed]",
      "text/plain": [
       "<Figure size 432x288 with 1 Axes>"
      ]
     },
     "metadata": {
      "needs_background": "light"
     },
     "output_type": "display_data"
    }
   ],
   "source": [
    "fig, ax = plt.subplots()\n",
    "\n",
    "decision_boundary(tree, df, ax)"
   ]
  },
  {
   "cell_type": "code",
   "execution_count": 8,
   "metadata": {},
   "outputs": [],
   "source": [
    "test = np.array(\n",
    "    [[0, 0],\n",
    "     [2, -2],\n",
    "     [-1, 3],\n",
    "     [-3, 4],\n",
    "     [-4, -2],\n",
    "     [3, 0]]\n",
    ")"
   ]
  },
  {
   "cell_type": "code",
   "execution_count": 9,
   "metadata": {},
   "outputs": [
    {
     "data": {
      "text/plain": [
       "array([0.88888889, 0.88888889, 0.88888889, 0.5       , 0.5       ,\n",
       "       0.        ])"
      ]
     },
     "execution_count": 9,
     "metadata": {},
     "output_type": "execute_result"
    }
   ],
   "source": [
    "tree.predict_proba(test)[:, 1]"
   ]
  },
  {
   "cell_type": "code",
   "execution_count": null,
   "metadata": {},
   "outputs": [],
   "source": []
  }
 ],
 "metadata": {
  "kernelspec": {
   "display_name": "Python 3",
   "language": "python",
   "name": "python3"
  },
  "language_info": {
   "codemirror_mode": {
    "name": "ipython",
    "version": 3
   },
   "file_extension": ".py",
   "mimetype": "text/x-python",
   "name": "python",
   "nbconvert_exporter": "python",
   "pygments_lexer": "ipython3",
   "version": "3.7.3"
  }
 },
 "nbformat": 4,
 "nbformat_minor": 2
}
