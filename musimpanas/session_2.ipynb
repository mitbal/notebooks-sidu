{
 "cells": [
  {
   "cell_type": "code",
   "execution_count": null,
   "metadata": {
    "ExecuteTime": {
     "end_time": "2019-06-13T00:21:46.640702Z",
     "start_time": "2019-06-13T00:21:46.518196Z"
    }
   },
   "outputs": [],
   "source": [
    "import numpy as np"
   ]
  },
  {
   "cell_type": "code",
   "execution_count": null,
   "metadata": {
    "ExecuteTime": {
     "end_time": "2019-06-13T00:21:46.647450Z",
     "start_time": "2019-06-13T00:21:46.643088Z"
    }
   },
   "outputs": [],
   "source": [
    "a = np.random.uniform(size=(4, 3))\n",
    "b = np.random.uniform(size=(3, 5))"
   ]
  },
  {
   "cell_type": "code",
   "execution_count": null,
   "metadata": {
    "ExecuteTime": {
     "end_time": "2019-06-13T00:21:46.655279Z",
     "start_time": "2019-06-13T00:21:46.650318Z"
    }
   },
   "outputs": [],
   "source": [
    "# Implement matrix multiplication using for loop\n",
    "\n",
    "def matmul_naive(a, b):\n",
    "    \n",
    "    dim1 = a.shape[0]\n",
    "    dim2 = b.shape[1]\n",
    "    dim3 = a.shape[1] # or b.shape[0]\n",
    "    \n",
    "    result = np.zeros((dim1, dim2))\n",
    "    \n",
    "    for i in range(dim1):\n",
    "        for j in range(dim2):\n",
    "            for k in range(dim3):\n",
    "                \n",
    "                result[i, j] += a[i, k] * b[k, j]\n",
    "    \n",
    "    return result"
   ]
  },
  {
   "cell_type": "code",
   "execution_count": null,
   "metadata": {
    "ExecuteTime": {
     "end_time": "2019-06-13T00:21:46.668803Z",
     "start_time": "2019-06-13T00:21:46.657819Z"
    }
   },
   "outputs": [],
   "source": [
    "matmul_naive(a, b)"
   ]
  },
  {
   "cell_type": "code",
   "execution_count": null,
   "metadata": {
    "ExecuteTime": {
     "end_time": "2019-06-13T00:21:46.672885Z",
     "start_time": "2019-06-13T00:21:46.670269Z"
    }
   },
   "outputs": [],
   "source": [
    "# Implement matrix multiplication using numpy"
   ]
  },
  {
   "cell_type": "code",
   "execution_count": null,
   "metadata": {
    "ExecuteTime": {
     "end_time": "2019-06-13T00:21:46.681534Z",
     "start_time": "2019-06-13T00:21:46.675434Z"
    }
   },
   "outputs": [],
   "source": [
    "np.matmul(a, b)"
   ]
  },
  {
   "cell_type": "code",
   "execution_count": null,
   "metadata": {
    "ExecuteTime": {
     "end_time": "2019-06-13T00:21:50.283345Z",
     "start_time": "2019-06-13T00:21:46.683408Z"
    }
   },
   "outputs": [],
   "source": [
    "%%timeit \n",
    "matmul_naive(a, b)"
   ]
  },
  {
   "cell_type": "code",
   "execution_count": null,
   "metadata": {
    "ExecuteTime": {
     "end_time": "2019-06-13T00:22:01.696624Z",
     "start_time": "2019-06-13T00:21:50.286702Z"
    }
   },
   "outputs": [],
   "source": [
    "%%timeit\n",
    "np.matmul(a, b)"
   ]
  },
  {
   "cell_type": "code",
   "execution_count": null,
   "metadata": {
    "ExecuteTime": {
     "end_time": "2019-06-13T00:22:01.701931Z",
     "start_time": "2019-06-13T00:22:01.699257Z"
    }
   },
   "outputs": [],
   "source": [
    "# numpy is much, much faster\n",
    "# this is become more apparent when the matrix size is big"
   ]
  },
  {
   "cell_type": "code",
   "execution_count": null,
   "metadata": {
    "ExecuteTime": {
     "end_time": "2019-06-13T00:22:01.726940Z",
     "start_time": "2019-06-13T00:22:01.704480Z"
    }
   },
   "outputs": [],
   "source": [
    "a = np.random.normal(size=(500, 600))\n",
    "b = np.random.normal(size=(600, 400))"
   ]
  },
  {
   "cell_type": "code",
   "execution_count": null,
   "metadata": {
    "ExecuteTime": {
     "end_time": "2019-06-13T00:23:09.171926Z",
     "start_time": "2019-06-13T00:22:01.729105Z"
    }
   },
   "outputs": [],
   "source": [
    "%%time\n",
    "\n",
    "matmul_naive(a, b)"
   ]
  },
  {
   "cell_type": "code",
   "execution_count": null,
   "metadata": {
    "ExecuteTime": {
     "end_time": "2019-06-13T00:23:09.189780Z",
     "start_time": "2019-06-13T00:23:09.174373Z"
    }
   },
   "outputs": [],
   "source": [
    "%%time\n",
    "\n",
    "np.matmul(a, b)"
   ]
  },
  {
   "cell_type": "code",
   "execution_count": null,
   "metadata": {
    "ExecuteTime": {
     "end_time": "2019-06-13T00:23:09.194343Z",
     "start_time": "2019-06-13T00:23:09.191900Z"
    }
   },
   "outputs": [],
   "source": [
    "# Special note, matrix exponentiation"
   ]
  },
  {
   "cell_type": "code",
   "execution_count": null,
   "metadata": {
    "ExecuteTime": {
     "end_time": "2019-06-13T00:23:09.201284Z",
     "start_time": "2019-06-13T00:23:09.196651Z"
    }
   },
   "outputs": [],
   "source": [
    "# EXERCISE: implement nearest neighbour using only 2 loops, 1 loop, and no loop!!!"
   ]
  },
  {
   "cell_type": "code",
   "execution_count": null,
   "metadata": {
    "ExecuteTime": {
     "end_time": "2019-06-13T00:23:09.212248Z",
     "start_time": "2019-06-13T00:23:09.204914Z"
    }
   },
   "outputs": [],
   "source": [
    "# Load dataset using pandas and calculate descriptive analytics"
   ]
  },
  {
   "cell_type": "code",
   "execution_count": null,
   "metadata": {
    "ExecuteTime": {
     "end_time": "2019-06-13T00:23:09.658744Z",
     "start_time": "2019-06-13T00:23:09.215811Z"
    }
   },
   "outputs": [],
   "source": [
    "import pandas as pd\n",
    "\n",
    "df = pd.read_csv('mysterious.csv')\n",
    "df.head()"
   ]
  },
  {
   "cell_type": "code",
   "execution_count": null,
   "metadata": {
    "ExecuteTime": {
     "end_time": "2019-06-13T00:23:09.706896Z",
     "start_time": "2019-06-13T00:23:09.660963Z"
    }
   },
   "outputs": [],
   "source": [
    "df.describe()"
   ]
  },
  {
   "cell_type": "code",
   "execution_count": null,
   "metadata": {
    "ExecuteTime": {
     "end_time": "2019-06-13T00:23:09.729843Z",
     "start_time": "2019-06-13T00:23:09.713191Z"
    }
   },
   "outputs": [],
   "source": [
    "df.groupby('label').mean()"
   ]
  },
  {
   "cell_type": "code",
   "execution_count": null,
   "metadata": {
    "ExecuteTime": {
     "end_time": "2019-06-13T00:23:09.751479Z",
     "start_time": "2019-06-13T00:23:09.731998Z"
    }
   },
   "outputs": [],
   "source": [
    "df.corr()"
   ]
  },
  {
   "cell_type": "code",
   "execution_count": null,
   "metadata": {
    "ExecuteTime": {
     "end_time": "2019-06-13T00:23:09.757855Z",
     "start_time": "2019-06-13T00:23:09.755067Z"
    }
   },
   "outputs": [],
   "source": [
    "# Let's visualize the dataset"
   ]
  },
  {
   "cell_type": "code",
   "execution_count": null,
   "metadata": {
    "ExecuteTime": {
     "end_time": "2019-06-13T00:23:10.377810Z",
     "start_time": "2019-06-13T00:23:09.760933Z"
    }
   },
   "outputs": [],
   "source": [
    "import matplotlib.pyplot as plt\n",
    "import seaborn as sns\n",
    "\n",
    "%matplotlib inline"
   ]
  },
  {
   "cell_type": "code",
   "execution_count": null,
   "metadata": {
    "ExecuteTime": {
     "end_time": "2019-06-13T00:23:10.672248Z",
     "start_time": "2019-06-13T00:23:10.380111Z"
    }
   },
   "outputs": [],
   "source": [
    "sns.heatmap(df.corr(), cmap='Blues')"
   ]
  },
  {
   "cell_type": "code",
   "execution_count": null,
   "metadata": {
    "ExecuteTime": {
     "end_time": "2019-06-13T00:23:10.994857Z",
     "start_time": "2019-06-13T00:23:10.676754Z"
    }
   },
   "outputs": [],
   "source": [
    "# scatter plot, matplotlib version\n",
    "\n",
    "fig, ax = plt.subplots(figsize=(10, 10))\n",
    "\n",
    "ax.scatter(df['feat1'], df['feat2'])"
   ]
  },
  {
   "cell_type": "code",
   "execution_count": null,
   "metadata": {
    "ExecuteTime": {
     "end_time": "2019-06-13T00:23:11.300004Z",
     "start_time": "2019-06-13T00:23:10.997185Z"
    }
   },
   "outputs": [],
   "source": [
    "fig, ax = plt.subplots(figsize=(10, 10))\n",
    "\n",
    "ax.scatter(df[df['label'] == 0]['feat2'], df[df['label'] == 0]['feat3'])\n",
    "ax.scatter(df[df['label'] == 1]['feat2'], df[df['label'] == 1]['feat3'])"
   ]
  },
  {
   "cell_type": "code",
   "execution_count": null,
   "metadata": {
    "ExecuteTime": {
     "end_time": "2019-06-13T00:23:11.615425Z",
     "start_time": "2019-06-13T00:23:11.302175Z"
    }
   },
   "outputs": [],
   "source": [
    "# scatter plot, seaborn version\n",
    "fig, ax = plt.subplots(figsize=(10, 10))\n",
    "\n",
    "sns.scatterplot(x='feat3', y='feat4', data=df, ax=ax)"
   ]
  },
  {
   "cell_type": "code",
   "execution_count": null,
   "metadata": {
    "ExecuteTime": {
     "end_time": "2019-06-13T00:23:12.087993Z",
     "start_time": "2019-06-13T00:23:11.617498Z"
    }
   },
   "outputs": [],
   "source": [
    "fig, ax = plt.subplots(figsize=(10, 10))\n",
    "\n",
    "sns.scatterplot(x='feat4', y='feat5', hue='label', data=df, ax=ax)"
   ]
  },
  {
   "cell_type": "code",
   "execution_count": null,
   "metadata": {
    "ExecuteTime": {
     "end_time": "2019-06-13T00:23:12.092803Z",
     "start_time": "2019-06-13T00:23:12.089875Z"
    }
   },
   "outputs": [],
   "source": [
    "# distribution plot, histogram, kde, boxplot, swarmplot"
   ]
  },
  {
   "cell_type": "code",
   "execution_count": null,
   "metadata": {
    "ExecuteTime": {
     "end_time": "2019-06-13T00:23:12.300761Z",
     "start_time": "2019-06-13T00:23:12.095435Z"
    }
   },
   "outputs": [],
   "source": [
    "sns.distplot(df['feat1'])"
   ]
  },
  {
   "cell_type": "code",
   "execution_count": null,
   "metadata": {
    "ExecuteTime": {
     "end_time": "2019-06-13T00:23:12.526972Z",
     "start_time": "2019-06-13T00:23:12.302838Z"
    }
   },
   "outputs": [],
   "source": [
    "sns.distplot(df['feat2'], kde=False)"
   ]
  },
  {
   "cell_type": "code",
   "execution_count": null,
   "metadata": {
    "ExecuteTime": {
     "end_time": "2019-06-13T00:23:26.314983Z",
     "start_time": "2019-06-13T00:23:12.528971Z"
    }
   },
   "outputs": [],
   "source": [
    "sns.pairplot(df)"
   ]
  },
  {
   "cell_type": "code",
   "execution_count": null,
   "metadata": {
    "ExecuteTime": {
     "end_time": "2019-06-13T00:23:28.696488Z",
     "start_time": "2019-06-13T00:23:26.317303Z"
    }
   },
   "outputs": [],
   "source": [
    "sns.pairplot(df, hue='label', vars=['feat1', 'feat3', 'feat6', 'feat8'])"
   ]
  },
  {
   "cell_type": "code",
   "execution_count": null,
   "metadata": {
    "ExecuteTime": {
     "end_time": "2019-06-13T00:23:28.857244Z",
     "start_time": "2019-06-13T00:23:28.698068Z"
    }
   },
   "outputs": [],
   "source": [
    "sns.boxplot(x='label', y='feat4', data=df)"
   ]
  },
  {
   "cell_type": "code",
   "execution_count": null,
   "metadata": {
    "ExecuteTime": {
     "end_time": "2019-06-13T00:23:29.162404Z",
     "start_time": "2019-06-13T00:23:28.859463Z"
    }
   },
   "outputs": [],
   "source": [
    "fig, ax = plt.subplots(figsize=(10, 10))\n",
    "\n",
    "sns.violinplot(x='label', y='feat7', data=df.sample(100), ax=ax)\n",
    "sns.swarmplot(x='label', y='feat7', data=df.sample(100), ax=ax, color='white')"
   ]
  },
  {
   "cell_type": "code",
   "execution_count": null,
   "metadata": {
    "ExecuteTime": {
     "end_time": "2019-06-13T00:23:29.166915Z",
     "start_time": "2019-06-13T00:23:29.164520Z"
    }
   },
   "outputs": [],
   "source": [
    "# subplots for creating multiple plots and customising them"
   ]
  },
  {
   "cell_type": "code",
   "execution_count": null,
   "metadata": {
    "ExecuteTime": {
     "end_time": "2019-06-13T00:23:29.681058Z",
     "start_time": "2019-06-13T00:23:29.169281Z"
    },
    "scrolled": false
   },
   "outputs": [],
   "source": [
    "fig, axes = plt.subplots(3, 1, figsize=(10, 10))\n",
    "\n",
    "ax = axes[0]\n",
    "sns.violinplot(x='label', y='feat7', data=df.sample(100), ax=ax)\n",
    "\n",
    "ax = axes[1]\n",
    "sns.swarmplot(x='label', y='feat7', data=df.sample(100), ax=ax)\n",
    "\n",
    "ax = axes[2]\n",
    "sns.boxplot(x='label', y='feat7', data=df.sample(100), ax=ax)"
   ]
  },
  {
   "cell_type": "code",
   "execution_count": null,
   "metadata": {},
   "outputs": [],
   "source": []
  }
 ],
 "metadata": {
  "hide_input": false,
  "kernelspec": {
   "display_name": "Python 3",
   "language": "python",
   "name": "python3"
  },
  "language_info": {
   "codemirror_mode": {
    "name": "ipython",
    "version": 3
   },
   "file_extension": ".py",
   "mimetype": "text/x-python",
   "name": "python",
   "nbconvert_exporter": "python",
   "pygments_lexer": "ipython3",
   "version": "3.7.3"
  }
 },
 "nbformat": 4,
 "nbformat_minor": 2
}
