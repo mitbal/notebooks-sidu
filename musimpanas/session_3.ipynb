{
 "cells": [
  {
   "cell_type": "code",
   "execution_count": null,
   "metadata": {
    "ExecuteTime": {
     "end_time": "2019-06-13T00:08:09.285892Z",
     "start_time": "2019-06-13T00:08:08.606064Z"
    }
   },
   "outputs": [],
   "source": [
    "import numpy as np\n",
    "import pandas as pd\n",
    "import matplotlib.pyplot as plt\n",
    "\n",
    "%matplotlib inline"
   ]
  },
  {
   "cell_type": "markdown",
   "metadata": {},
   "source": [
    "# Regression"
   ]
  },
  {
   "cell_type": "code",
   "execution_count": null,
   "metadata": {
    "ExecuteTime": {
     "end_time": "2019-06-13T00:08:09.290544Z",
     "start_time": "2019-06-13T00:08:09.287752Z"
    }
   },
   "outputs": [],
   "source": [
    "# Use sklearn for linear regression closed form solution"
   ]
  },
  {
   "cell_type": "code",
   "execution_count": null,
   "metadata": {
    "ExecuteTime": {
     "end_time": "2019-06-13T00:08:09.319164Z",
     "start_time": "2019-06-13T00:08:09.293200Z"
    }
   },
   "outputs": [],
   "source": [
    "df = pd.read_csv('linear1.csv')\n",
    "df.head()"
   ]
  },
  {
   "cell_type": "code",
   "execution_count": null,
   "metadata": {
    "ExecuteTime": {
     "end_time": "2019-06-13T00:08:09.710788Z",
     "start_time": "2019-06-13T00:08:09.321543Z"
    }
   },
   "outputs": [],
   "source": [
    "_, ax = plt.subplots(figsize=(10, 10))\n",
    "\n",
    "ax.scatter(df['x'], df['y'])"
   ]
  },
  {
   "cell_type": "code",
   "execution_count": null,
   "metadata": {
    "ExecuteTime": {
     "end_time": "2019-06-13T00:08:10.491001Z",
     "start_time": "2019-06-13T00:08:09.713054Z"
    }
   },
   "outputs": [],
   "source": [
    "from sklearn.linear_model import LinearRegression\n",
    "\n",
    "X = df['x'].values.reshape(-1, 1)\n",
    "y = df['y']\n",
    "\n",
    "linreg = LinearRegression()\n",
    "linreg.fit(X=X, y=y)"
   ]
  },
  {
   "cell_type": "code",
   "execution_count": null,
   "metadata": {
    "ExecuteTime": {
     "end_time": "2019-06-13T00:08:10.501866Z",
     "start_time": "2019-06-13T00:08:10.493842Z"
    }
   },
   "outputs": [],
   "source": [
    "linreg.coef_, linreg.intercept_"
   ]
  },
  {
   "cell_type": "code",
   "execution_count": null,
   "metadata": {
    "ExecuteTime": {
     "end_time": "2019-06-13T00:08:10.928024Z",
     "start_time": "2019-06-13T00:08:10.504753Z"
    }
   },
   "outputs": [],
   "source": [
    "_, ax = plt.subplots(figsize=(10, 10))\n",
    "\n",
    "ax.scatter(df['x'], df['y'], alpha=0.7)\n",
    "\n",
    "x = np.linspace(-2, 2, 1000).reshape(-1, 1)\n",
    "y = linreg.predict(x)\n",
    "\n",
    "ax.plot(x, y, color='red', linewidth=4)"
   ]
  },
  {
   "cell_type": "code",
   "execution_count": null,
   "metadata": {
    "ExecuteTime": {
     "end_time": "2019-06-13T00:08:10.940391Z",
     "start_time": "2019-06-13T00:08:10.933014Z"
    }
   },
   "outputs": [],
   "source": [
    "# Use gradient descent for linear regression"
   ]
  },
  {
   "cell_type": "code",
   "execution_count": null,
   "metadata": {
    "ExecuteTime": {
     "end_time": "2019-06-13T00:08:22.427284Z",
     "start_time": "2019-06-13T00:08:10.946142Z"
    }
   },
   "outputs": [],
   "source": [
    "fig, axes = plt.subplots(10, 10, figsize=(20, 20))\n",
    "axes = axes.reshape(-1)\n",
    "\n",
    "m = 0.\n",
    "c = 0.\n",
    "\n",
    "alpha = 0.1\n",
    "epoch = 100\n",
    "\n",
    "n = float(len(x))\n",
    "\n",
    "X = df['x']\n",
    "y = df['y']\n",
    "\n",
    "for i in range(epoch): \n",
    "    y_pred = m*X + c\n",
    "    \n",
    "    delta_m = -np.sum(X * (y - y_pred)) / n\n",
    "    delta_c = -np.sum(y - y_pred) / n\n",
    "    \n",
    "    m = m - (alpha * delta_m)\n",
    "    c = c - (alpha * delta_c)\n",
    "        \n",
    "    ax = axes[i]\n",
    "    ax.scatter(df['x'], df['y'], alpha=0.5)\n",
    "\n",
    "    xs = np.linspace(-2, 2, 1000).reshape(-1, 1)\n",
    "    ys = m*x + c\n",
    "    ax.plot(xs, ys, color='red', linewidth=4)\n",
    "    \n",
    "    title = 'iter '+str(i) +'\\nm '+str(m)[:4]+' c '+str(c)[:4]\n",
    "    ax.set_title(title)\n",
    "    \n",
    "plt.tight_layout()\n",
    "print (m, c)"
   ]
  },
  {
   "cell_type": "markdown",
   "metadata": {},
   "source": [
    "# Classification"
   ]
  },
  {
   "cell_type": "code",
   "execution_count": null,
   "metadata": {
    "ExecuteTime": {
     "end_time": "2019-06-13T00:08:22.433661Z",
     "start_time": "2019-06-13T00:08:22.429254Z"
    }
   },
   "outputs": [],
   "source": [
    "# Use sklearn logistic regression to classify easy dataset"
   ]
  },
  {
   "cell_type": "code",
   "execution_count": null,
   "metadata": {
    "ExecuteTime": {
     "end_time": "2019-06-13T00:08:22.450559Z",
     "start_time": "2019-06-13T00:08:22.435900Z"
    }
   },
   "outputs": [],
   "source": [
    "easy = pd.read_csv('easy_dataset.csv')\n",
    "easy.head()"
   ]
  },
  {
   "cell_type": "code",
   "execution_count": null,
   "metadata": {
    "ExecuteTime": {
     "end_time": "2019-06-13T00:08:22.458463Z",
     "start_time": "2019-06-13T00:08:22.452779Z"
    }
   },
   "outputs": [],
   "source": [
    "def plot_dataset(df, ax=None):\n",
    "    \n",
    "    if ax is None:\n",
    "        _, ax = plt.subplots(figsize=(10, 10))\n",
    "        \n",
    "    ax.scatter(x='x', y='y', data=df[df['label'] == 0], color='red')\n",
    "    ax.scatter(x='x', y='y', data=df[df['label'] == 1], color='green')\n",
    "    \n",
    "    return ax"
   ]
  },
  {
   "cell_type": "code",
   "execution_count": null,
   "metadata": {
    "ExecuteTime": {
     "end_time": "2019-06-13T00:08:22.822620Z",
     "start_time": "2019-06-13T00:08:22.460302Z"
    }
   },
   "outputs": [],
   "source": [
    "plot_dataset(easy)"
   ]
  },
  {
   "cell_type": "code",
   "execution_count": null,
   "metadata": {
    "ExecuteTime": {
     "end_time": "2019-06-13T00:08:22.831015Z",
     "start_time": "2019-06-13T00:08:22.824861Z"
    }
   },
   "outputs": [],
   "source": [
    "from sklearn.linear_model import LogisticRegression\n",
    "\n",
    "logreg = LogisticRegression()\n",
    "\n",
    "X = easy[['x', 'y']]\n",
    "y = easy['label']"
   ]
  },
  {
   "cell_type": "code",
   "execution_count": null,
   "metadata": {
    "ExecuteTime": {
     "end_time": "2019-06-13T00:08:22.845765Z",
     "start_time": "2019-06-13T00:08:22.832992Z"
    }
   },
   "outputs": [],
   "source": [
    "logreg.fit(X=X, y=y)"
   ]
  },
  {
   "cell_type": "code",
   "execution_count": null,
   "metadata": {
    "ExecuteTime": {
     "end_time": "2019-06-13T00:08:22.855297Z",
     "start_time": "2019-06-13T00:08:22.848028Z"
    }
   },
   "outputs": [],
   "source": [
    "from sklearn.metrics import accuracy_score\n",
    "\n",
    "prediction = logreg.predict(X)\n",
    "accuracy_score(prediction, y)"
   ]
  },
  {
   "cell_type": "code",
   "execution_count": null,
   "metadata": {
    "ExecuteTime": {
     "end_time": "2019-06-13T00:08:22.882102Z",
     "start_time": "2019-06-13T00:08:22.857518Z"
    }
   },
   "outputs": [],
   "source": [
    "def plot_decision_boundary(df, model=None, func=None, ax=None):\n",
    "    \n",
    "    ax = plot_dataset(df, ax)\n",
    "    \n",
    "    if model is None:\n",
    "        return\n",
    "    \n",
    "    max_x = np.max(df['x'])\n",
    "    max_y = np.max(df['y'])\n",
    "    \n",
    "    min_x = np.min(df['x'])\n",
    "    min_y = np.min(df['y'])\n",
    "    \n",
    "    n_sample = 200\n",
    "    xs = np.linspace(min_x, max_x, n_sample)\n",
    "    ys = np.linspace(min_y, max_y, n_sample)\n",
    "    \n",
    "    xx, yy = np.meshgrid(xs, ys)\n",
    "    \n",
    "    X = np.array([xx.reshape(-1), yy.reshape(-1)]).T\n",
    "    X = pd.DataFrame(X)\n",
    "    X.columns = ['x', 'y']\n",
    "    y = df['label']\n",
    "    \n",
    "    if func is not None:\n",
    "        X = func(X)\n",
    "    \n",
    "    zz = model.predict(X).reshape(n_sample, n_sample)\n",
    "    ax.contour(xx, yy, zz, levels=(-1, 0, 1), linewidths=5, colors='black', alpha=0.95)\n",
    "    ax.contourf(xx, yy, zz, levels=(-1, 0, 1), colors=('#ff0000', '#00ff00'), alpha=0.2)\n",
    "    \n",
    "    ax.set_xlim((min_x, max_x))\n",
    "    ax.set_ylim((min_y, max_y))\n",
    "    \n",
    "    return zz"
   ]
  },
  {
   "cell_type": "code",
   "execution_count": null,
   "metadata": {
    "ExecuteTime": {
     "end_time": "2019-06-13T00:08:23.311292Z",
     "start_time": "2019-06-13T00:08:22.884420Z"
    }
   },
   "outputs": [],
   "source": [
    "plot_decision_boundary(easy, logreg);"
   ]
  },
  {
   "cell_type": "code",
   "execution_count": null,
   "metadata": {
    "ExecuteTime": {
     "end_time": "2019-06-13T00:08:23.320398Z",
     "start_time": "2019-06-13T00:08:23.315812Z"
    }
   },
   "outputs": [],
   "source": [
    "# Use sklearn logistic regression to classify medium dataset"
   ]
  },
  {
   "cell_type": "code",
   "execution_count": null,
   "metadata": {
    "ExecuteTime": {
     "end_time": "2019-06-13T00:08:23.687238Z",
     "start_time": "2019-06-13T00:08:23.324291Z"
    }
   },
   "outputs": [],
   "source": [
    "medium = pd.read_csv('medium_dataset.csv')\n",
    "plot_dataset(medium)"
   ]
  },
  {
   "cell_type": "code",
   "execution_count": null,
   "metadata": {
    "ExecuteTime": {
     "end_time": "2019-06-13T00:08:23.701315Z",
     "start_time": "2019-06-13T00:08:23.689737Z"
    }
   },
   "outputs": [],
   "source": [
    "X = medium[['x', 'y']]\n",
    "y = medium['label']\n",
    "\n",
    "logreg = LogisticRegression()\n",
    "logreg.fit(X, y)"
   ]
  },
  {
   "cell_type": "code",
   "execution_count": null,
   "metadata": {
    "ExecuteTime": {
     "end_time": "2019-06-13T00:08:23.711023Z",
     "start_time": "2019-06-13T00:08:23.703514Z"
    }
   },
   "outputs": [],
   "source": [
    "prediction = logreg.predict(X)\n",
    "accuracy_score(prediction, y)"
   ]
  },
  {
   "cell_type": "code",
   "execution_count": null,
   "metadata": {
    "ExecuteTime": {
     "end_time": "2019-06-13T00:08:24.156200Z",
     "start_time": "2019-06-13T00:08:23.717129Z"
    }
   },
   "outputs": [],
   "source": [
    "plot_decision_boundary(medium, logreg);"
   ]
  },
  {
   "cell_type": "code",
   "execution_count": null,
   "metadata": {
    "ExecuteTime": {
     "end_time": "2019-06-13T00:08:24.164319Z",
     "start_time": "2019-06-13T00:08:24.160618Z"
    }
   },
   "outputs": [],
   "source": [
    "def transform(X):\n",
    "    \n",
    "    result = X.copy(deep=True)\n",
    "    result['x2'] = X['x']**2\n",
    "    result['y2'] = X['y']**2\n",
    "    \n",
    "    return result"
   ]
  },
  {
   "cell_type": "code",
   "execution_count": null,
   "metadata": {
    "ExecuteTime": {
     "end_time": "2019-06-13T00:08:24.180285Z",
     "start_time": "2019-06-13T00:08:24.167286Z"
    }
   },
   "outputs": [],
   "source": [
    "X_transformed = transform(X)\n",
    "\n",
    "logreg.fit(X_transformed, y)\n",
    "prediction = logreg.predict(X_transformed)\n",
    "accuracy_score(prediction, y)"
   ]
  },
  {
   "cell_type": "code",
   "execution_count": null,
   "metadata": {
    "ExecuteTime": {
     "end_time": "2019-06-13T00:08:24.628711Z",
     "start_time": "2019-06-13T00:08:24.182487Z"
    }
   },
   "outputs": [],
   "source": [
    "plot_decision_boundary(medium, logreg, transform);"
   ]
  },
  {
   "cell_type": "code",
   "execution_count": null,
   "metadata": {
    "ExecuteTime": {
     "end_time": "2019-06-13T00:08:24.633958Z",
     "start_time": "2019-06-13T00:08:24.630983Z"
    }
   },
   "outputs": [],
   "source": [
    "# Use sklearn logistic regression to classify hard dataset"
   ]
  },
  {
   "cell_type": "code",
   "execution_count": null,
   "metadata": {
    "ExecuteTime": {
     "end_time": "2019-06-13T00:08:24.968154Z",
     "start_time": "2019-06-13T00:08:24.638726Z"
    }
   },
   "outputs": [],
   "source": [
    "hard = pd.read_csv('hard_dataset.csv')\n",
    "plot_dataset(hard)"
   ]
  },
  {
   "cell_type": "code",
   "execution_count": null,
   "metadata": {
    "ExecuteTime": {
     "end_time": "2019-06-13T00:08:24.982054Z",
     "start_time": "2019-06-13T00:08:24.970764Z"
    }
   },
   "outputs": [],
   "source": [
    "X = hard[['x', 'y']]\n",
    "y = hard['label']\n",
    "\n",
    "logreg = LogisticRegression()\n",
    "logreg.fit(X, y)\n",
    "\n",
    "prediction = logreg.predict(X)\n",
    "accuracy_score(prediction, y)"
   ]
  },
  {
   "cell_type": "code",
   "execution_count": null,
   "metadata": {
    "ExecuteTime": {
     "end_time": "2019-06-13T00:08:25.370734Z",
     "start_time": "2019-06-13T00:08:24.984316Z"
    }
   },
   "outputs": [],
   "source": [
    "plot_decision_boundary(hard, logreg);"
   ]
  },
  {
   "cell_type": "code",
   "execution_count": null,
   "metadata": {
    "ExecuteTime": {
     "end_time": "2019-06-13T00:08:25.388436Z",
     "start_time": "2019-06-13T00:08:25.373752Z"
    }
   },
   "outputs": [],
   "source": [
    "def transform(X):\n",
    "    \n",
    "    result = X.copy(deep=True)\n",
    "    result['x2'] = X['x']**12\n",
    "    result['y2'] = X['y']**45\n",
    "    \n",
    "    return result\n",
    "\n",
    "X_transformed = transform(X)\n",
    "\n",
    "logreg.fit(X_transformed, y)\n",
    "prediction = logreg.predict(X_transformed)\n",
    "accuracy_score(prediction, y)"
   ]
  },
  {
   "cell_type": "code",
   "execution_count": null,
   "metadata": {
    "ExecuteTime": {
     "end_time": "2019-06-13T00:08:25.771295Z",
     "start_time": "2019-06-13T00:08:25.390647Z"
    }
   },
   "outputs": [],
   "source": [
    "plot_decision_boundary(hard, logreg, transform)"
   ]
  },
  {
   "cell_type": "code",
   "execution_count": null,
   "metadata": {
    "ExecuteTime": {
     "end_time": "2019-06-13T00:08:25.779048Z",
     "start_time": "2019-06-13T00:08:25.774840Z"
    }
   },
   "outputs": [],
   "source": [
    "#EXERCISE: manually find the transformation that can classified hard dataset!!!"
   ]
  },
  {
   "cell_type": "code",
   "execution_count": null,
   "metadata": {
    "ExecuteTime": {
     "end_time": "2019-06-13T00:08:25.783997Z",
     "start_time": "2019-06-13T00:08:25.781520Z"
    }
   },
   "outputs": [],
   "source": [
    "# Use decision tree to classify hard dataset"
   ]
  },
  {
   "cell_type": "code",
   "execution_count": null,
   "metadata": {
    "ExecuteTime": {
     "end_time": "2019-06-13T00:08:25.813775Z",
     "start_time": "2019-06-13T00:08:25.786334Z"
    }
   },
   "outputs": [],
   "source": [
    "from sklearn.tree import DecisionTreeClassifier\n",
    "\n",
    "dtc = DecisionTreeClassifier()\n",
    "dtc.fit(X, y)\n",
    "\n",
    "prediction = dtc.predict(X)\n",
    "accuracy_score(prediction, y)"
   ]
  },
  {
   "cell_type": "code",
   "execution_count": null,
   "metadata": {
    "ExecuteTime": {
     "end_time": "2019-06-13T00:08:26.239180Z",
     "start_time": "2019-06-13T00:08:25.819834Z"
    }
   },
   "outputs": [],
   "source": [
    "plot_decision_boundary(hard, dtc);"
   ]
  },
  {
   "cell_type": "code",
   "execution_count": null,
   "metadata": {
    "ExecuteTime": {
     "end_time": "2019-06-13T00:08:26.244891Z",
     "start_time": "2019-06-13T00:08:26.241804Z"
    }
   },
   "outputs": [],
   "source": [
    "# Test different max_depth hyperparam"
   ]
  },
  {
   "cell_type": "code",
   "execution_count": null,
   "metadata": {
    "ExecuteTime": {
     "end_time": "2019-06-13T00:08:29.310308Z",
     "start_time": "2019-06-13T00:08:26.247489Z"
    }
   },
   "outputs": [],
   "source": [
    "fig, axes = plt.subplots(4, 4, figsize=(20, 20))\n",
    "\n",
    "for i in range(16):\n",
    "    dec = DecisionTreeClassifier(max_depth=i+1, criterion='entropy')\n",
    "    dec.fit(X=hard[['x', 'y']], y=hard['label'])\n",
    "    \n",
    "    ax = axes.reshape(-1)[i]\n",
    "    plot_decision_boundary(hard, dec, ax=ax)\n",
    "    ax.set_title('Maximum depth '+str(i+1))"
   ]
  },
  {
   "cell_type": "code",
   "execution_count": null,
   "metadata": {
    "ExecuteTime": {
     "end_time": "2019-06-13T00:08:29.314545Z",
     "start_time": "2019-06-13T00:08:29.312179Z"
    }
   },
   "outputs": [],
   "source": [
    "# EXERCISE"
   ]
  },
  {
   "cell_type": "code",
   "execution_count": null,
   "metadata": {
    "ExecuteTime": {
     "end_time": "2019-06-13T00:08:29.319461Z",
     "start_time": "2019-06-13T00:08:29.316525Z"
    }
   },
   "outputs": [],
   "source": [
    "# Split train test to validly assess the performance"
   ]
  },
  {
   "cell_type": "code",
   "execution_count": null,
   "metadata": {
    "ExecuteTime": {
     "end_time": "2019-06-13T00:08:29.324875Z",
     "start_time": "2019-06-13T00:08:29.321869Z"
    }
   },
   "outputs": [],
   "source": [
    "# cross validation to find best hyperparameter"
   ]
  }
 ],
 "metadata": {
  "hide_input": false,
  "kernelspec": {
   "display_name": "Python 3",
   "language": "python",
   "name": "python3"
  },
  "language_info": {
   "codemirror_mode": {
    "name": "ipython",
    "version": 3
   },
   "file_extension": ".py",
   "mimetype": "text/x-python",
   "name": "python",
   "nbconvert_exporter": "python",
   "pygments_lexer": "ipython3",
   "version": "3.7.3"
  }
 },
 "nbformat": 4,
 "nbformat_minor": 2
}
